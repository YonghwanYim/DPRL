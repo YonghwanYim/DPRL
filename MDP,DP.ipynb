{
  "cells": [
    {
      "cell_type": "markdown",
      "metadata": {
        "id": "view-in-github",
        "colab_type": "text"
      },
      "source": [
        "<a href=\"https://colab.research.google.com/github/YonghwanYim/DPRL/blob/main/MDP%2CDP.ipynb\" target=\"_parent\"><img src=\"https://colab.research.google.com/assets/colab-badge.svg\" alt=\"Open In Colab\"/></a>"
      ]
    },
    {
      "cell_type": "code",
      "execution_count": null,
      "metadata": {
        "colab": {
          "base_uri": "https://localhost:8080/"
        },
        "id": "KbXo_lZ7pdG_",
        "outputId": "4e39263d-b5cd-4e44-c9ca-3a619d83b171"
      },
      "outputs": [
        {
          "output_type": "stream",
          "name": "stdout",
          "text": [
            "[1. 1. 1. 1. 1. 1.]\n"
          ]
        }
      ],
      "source": [
        "import numpy as np\n",
        "\n",
        "P = np.array([[0,1,0,0,0,0],\n",
        "              [0,0.5,0.3,0.2,0,0],\n",
        "              [0.5,0.5,0,0,0,0],\n",
        "              [0,0,0,0.5,0.5,0],\n",
        "              [0.2,0,0,0,0.7,0.1],\n",
        "              [0,0,0,0,0,1]])\n",
        "print(P.sum(axis=1))"
      ]
    },
    {
      "cell_type": "code",
      "execution_count": null,
      "metadata": {
        "colab": {
          "base_uri": "https://localhost:8080/"
        },
        "id": "aKHSzRYqpdHA",
        "outputId": "eccdb726-0b93-4d5b-9bfe-137a7d939dc1"
      },
      "outputs": [
        {
          "output_type": "stream",
          "name": "stdout",
          "text": [
            "v1= [0. 1. 0. 0. 0. 0.]\n",
            "v2= [0.  0.5 0.3 0.2 0.  0. ]\n",
            "v3= [0.15 0.4  0.15 0.2  0.1  0.  ]\n"
          ]
        }
      ],
      "source": [
        "v0 = np.array([1,0,0,0,0,0]) # Initial state (rest)\n",
        "v1 = np.matmul(v0,P) # np.matmul : matrix multiplication. \n",
        "print('v1=', v1)\n",
        "v2 = np.matmul(v1,P)\n",
        "print('v2=', v2)\n",
        "v3 = np.matmul(v2,P)\n",
        "print('v3=', v3)"
      ]
    },
    {
      "cell_type": "code",
      "execution_count": null,
      "metadata": {
        "colab": {
          "base_uri": "https://localhost:8080/"
        },
        "id": "dlaPcyy-pdHA",
        "outputId": "b3b692c1-e6f1-4224-a2b1-6fbf24b69f9a"
      },
      "outputs": [
        {
          "output_type": "stream",
          "name": "stdout",
          "text": [
            "v= [4.10133014e-62 1.28855265e-61 3.97485910e-62 5.45387901e-62\n",
            " 1.00061246e-61 1.00000000e+00]\n"
          ]
        }
      ],
      "source": [
        "v = np.array([1,0,0,0,0,0])\n",
        "for i in range(5000):\n",
        "    v = np.matmul(v,P)  # V is d (d = dp)\n",
        "print ('v=', v)"
      ]
    },
    {
      "cell_type": "code",
      "execution_count": null,
      "metadata": {
        "colab": {
          "base_uri": "https://localhost:8080/"
        },
        "id": "uqdE0Wi3pdHB",
        "outputId": "04f062fb-33f0-479a-8b7c-c3a432b4fb2e"
      },
      "outputs": [
        {
          "output_type": "stream",
          "name": "stdout",
          "text": [
            "[ 1.        +0.j         -0.18383129+0.35815871j -0.18383129-0.35815871j\n",
            "  0.97252704+0.j          0.54756777+0.18234902j  0.54756777-0.18234902j]\n",
            "d =  [0. 0. 0. 0. 0. 1.]\n"
          ]
        }
      ],
      "source": [
        "w,v = np.linalg.eig(P.T)  # np.linalg.eig() : return eigenvalue w, eigenvector v   \n",
        "                          # P.T : matrix 뒤에 .T를 붙이면 transpose matrix. (attribute) \n",
        "print(w)\n",
        "d = np.real_if_close(v[:,0])  # real_if_close() function in Numpy is used to return real parts of an input array\n",
        "                              # of complex values with all imaginary parts close to zero.\n",
        "print(\"d = \", d/d.sum())  # sum to 1"
      ]
    },
    {
      "cell_type": "code",
      "execution_count": null,
      "metadata": {
        "colab": {
          "base_uri": "https://localhost:8080/"
        },
        "id": "Oe1uYLJKpdHB",
        "outputId": "c596fb65-33d2-48fd-9db4-673ea9b0816d"
      },
      "outputs": [
        {
          "output_type": "stream",
          "name": "stdout",
          "text": [
            "[-0.18616765+0.36182691j -0.18616765-0.36182691j  1.        +0.j\n",
            "  0.5954077 +0.24703993j  0.5954077 -0.24703993j  0.38151989+0.j        ]\n",
            "d= [0.12280702 0.35087719 0.10526316 0.14035088 0.23391813 0.04678363]\n"
          ]
        }
      ],
      "source": [
        "P = np.array([[0,1,0,0,0,0],\n",
        "              [0,0.5,0.3,0.2,0,0],\n",
        "              [0.5,0.5,0,0,0,0],\n",
        "              [0,0,0,0.5,0.5,0],\n",
        "              [0.2,0,0,0,0.7,0.1],\n",
        "              [0.5,0,0,0,0,0.5]])\n",
        "\n",
        "w,v = np.linalg.eig(P.T)\n",
        "print(w)\n",
        "d = np.real_if_close(v[:,2]) \n",
        "print(\"d=\", d/d.sum())  # sum to 1"
      ]
    },
    {
      "cell_type": "code",
      "execution_count": null,
      "metadata": {
        "id": "RplmeVcqpdHB"
      },
      "outputs": [],
      "source": [
        "R = np.array([1,-2,1.5,0,1.1,0]).T\n",
        "gamma = 0.99                          # gamma is close to 1 (far-sighted valuation)"
      ]
    },
    {
      "cell_type": "code",
      "execution_count": null,
      "metadata": {
        "colab": {
          "base_uri": "https://localhost:8080/"
        },
        "id": "aaQ5nhKTpdHB",
        "outputId": "7f696e99-c2d6-4c79-e083-8415db59dc7f"
      },
      "outputs": [
        {
          "output_type": "stream",
          "name": "stdout",
          "text": [
            "V= [-17.72419461 -18.91333503 -16.63557011 -13.18422697 -13.45058927\n",
            " -17.37320647]\n"
          ]
        }
      ],
      "source": [
        "# fixed point iteration\n",
        "V = np.zeros(6)  # numpy.zeros(shape, dtype=float, order='C', *, like=None); \n",
        "                 # shape : int or tuple of ints\n",
        "                 # numpy.zeros : Return a new array of given shape and type, filled with zeros.\n",
        "                 # V = [0. 0. 0. 0. 0. 0.]\n",
        "for i in range(1000):\n",
        "    V = R + gamma*np.matmul(P,V)  # V = R + gamma*PV (Bellman Equation)\n",
        "print(\"V=\", V)    "
      ]
    },
    {
      "cell_type": "code",
      "execution_count": null,
      "metadata": {
        "colab": {
          "base_uri": "https://localhost:8080/"
        },
        "id": "ry3sVVeYpdHC",
        "outputId": "720d925c-2809-48e8-9a38-8e479d2417ad"
      },
      "outputs": [
        {
          "output_type": "stream",
          "name": "stdout",
          "text": [
            "V= [-17.72490151 -18.91404193 -16.63627701 -13.18493386 -13.45129616\n",
            " -17.37391336]\n"
          ]
        }
      ],
      "source": [
        "# direct method using inverse\n",
        "# If there are n states, then the time complexity of this direct method is O(n^3) \n",
        "MI = np.linalg.inv(np.eye(6)-gamma*P) # np.eye(n, k=m, dtype=int)\n",
        "                                      # n : number of rows in the output\n",
        "                                      # k : index of the diagonal (default : 0) refers to the main diagonal, \n",
        "                                      #     a positive value refers to an upper diangonal, and a negative value to a lower diagonal.\n",
        "V = np.matmul(MI,R)\n",
        "print(\"V=\", V)"
      ]
    },
    {
      "cell_type": "code",
      "execution_count": null,
      "metadata": {
        "colab": {
          "base_uri": "https://localhost:8080/"
        },
        "id": "axRLzpAPpdHC",
        "outputId": "f7ccab57-e9a0-47b7-92a9-f888f333e69e"
      },
      "outputs": [
        {
          "output_type": "stream",
          "name": "stdout",
          "text": [
            "[1. 1. 1. 1. 1. 1.]\n",
            "[1. 1. 1. 1. 1. 1.]\n"
          ]
        }
      ],
      "source": [
        "P_easy = np.array([[0.7,0.3,0,0,0,0],\n",
        "                   [0,0,0.5,0.5,0,0],\n",
        "                   [0.5,0.5,0,0,0,0],\n",
        "                   [0,0,0.5,0.5,0,0],\n",
        "                   [0,0,0,0,0.9,0.1],\n",
        "                   [0,0,0,0,0,1]])\n",
        "print(P_easy.sum(axis=1))\n",
        "R_easy = np.array([1,2,1.5,0,0,0]).T\n",
        "\n",
        "P_hard = np.array([[0.3,0.7,0,0,0,0],\n",
        "                   [0,0.7,0,0.3,0,0],\n",
        "                   [0.5,0.5,0,0,0,0],\n",
        "                   [0,0.7,0,0.3,0,0],\n",
        "                   [0.6,0,0,0,0.3,0.1],\n",
        "                   [0,0,0,0,0,1]])\n",
        "print(P_hard.sum(axis=1))\n",
        "R_hard = np.array([1,1,1.5,0,1.7,0]).T"
      ]
    },
    {
      "cell_type": "markdown",
      "metadata": {
        "id": "sGKDP6uOpdHC"
      },
      "source": [
        "### Direct method using matrix inversion\n",
        "![image.png](attachment:b895a3dc-925d-43b7-94b6-995cf611e794.png)"
      ]
    },
    {
      "cell_type": "code",
      "execution_count": null,
      "metadata": {
        "colab": {
          "base_uri": "https://localhost:8080/"
        },
        "id": "uFSvV9UspdHC",
        "outputId": "c73a4293-0039-4601-da86-3e810b28c228"
      },
      "outputs": [
        {
          "output_type": "stream",
          "name": "stdout",
          "text": [
            "[110.86343556 111.2292078  111.43585846 109.2292078    0.\n",
            "   0.        ]\n"
          ]
        }
      ],
      "source": [
        "V_easy = np.matmul(np.linalg.inv(np.eye(6)-gamma*P_easy),R_easy)\n",
        "print (V_easy)"
      ]
    },
    {
      "cell_type": "code",
      "execution_count": null,
      "metadata": {
        "colab": {
          "base_uri": "https://localhost:8080/"
        },
        "id": "v1PhGutepdHC",
        "outputId": "b2e8d1be-6899-43a4-eb41-b7cadd7bb264"
      },
      "outputs": [
        {
          "output_type": "stream",
          "name": "stdout",
          "text": [
            "[70.72247511 70.3        71.30612518 69.3        62.17517811  0.        ]\n"
          ]
        }
      ],
      "source": [
        "V_hard = np.matmul(np.linalg.inv(np.eye(6)-gamma*P_hard),R_hard)\n",
        "print (V_hard)"
      ]
    },
    {
      "cell_type": "markdown",
      "metadata": {
        "id": "O4AeqYS5pdHC"
      },
      "source": [
        "### Fibonacci seq.\n",
        "F(0) = F(1) = 1\n",
        "F(n) = F(n-1) + F(n-1)"
      ]
    },
    {
      "cell_type": "code",
      "execution_count": null,
      "metadata": {
        "colab": {
          "base_uri": "https://localhost:8080/"
        },
        "id": "D7YKuo4FpdHC",
        "outputId": "1cb91a28-8fb0-4abc-df39-fc5256ea85a2"
      },
      "outputs": [
        {
          "output_type": "stream",
          "name": "stdout",
          "text": [
            "6765\n"
          ]
        }
      ],
      "source": [
        "def fiboRec(n):\n",
        "    if n <= 1: return n\n",
        "    return fiboRec(n-1) + fiboRec(n-2)\n",
        "\n",
        "print (fiboRec(20))"
      ]
    },
    {
      "cell_type": "code",
      "execution_count": null,
      "metadata": {
        "colab": {
          "base_uri": "https://localhost:8080/"
        },
        "id": "JmwQlYnLpdHC",
        "outputId": "03f55216-859f-4abb-a97b-6177563312fc"
      },
      "outputs": [
        {
          "output_type": "stream",
          "name": "stdout",
          "text": [
            "102334155\n"
          ]
        }
      ],
      "source": [
        "def fiboForward (N):\n",
        "    F = [0] * (N+1)\n",
        "    F[0] = 0\n",
        "    F[1] = 1\n",
        "    for n in range(2,N+1):\n",
        "        F[n] = F[n-1] + F[n-2]\n",
        "    return F[N]\n",
        "\n",
        "print (fiboForward(40))"
      ]
    },
    {
      "cell_type": "markdown",
      "metadata": {
        "id": "G5Rm1-grpdHC"
      },
      "source": [
        "### Iterative method\n",
        "![image.png](attachment:c32884eb-e43f-471a-a0d7-aace89f3a921.png)"
      ]
    },
    {
      "cell_type": "code",
      "execution_count": null,
      "metadata": {
        "colab": {
          "base_uri": "https://localhost:8080/"
        },
        "id": "lvctR3p9pdHD",
        "outputId": "8a305ad5-9082-4e47-a5f0-d766dd5a2fec"
      },
      "outputs": [
        {
          "output_type": "stream",
          "name": "stdout",
          "text": [
            "[110.85865589 111.22442813 111.43107879 109.22442813   0.\n",
            "   0.        ]\n",
            "[70.71945312 70.29697801 71.30310319 69.29697801 62.17258784  0.        ]\n"
          ]
        }
      ],
      "source": [
        "V_easy = np.zeros(6)\n",
        "V_hard = np.zeros(6)\n",
        "for i in range(1000):\n",
        "    V_easy = R_easy + gamma*np.matmul(P_easy, V_easy)\n",
        "    V_hard = R_hard + gamma*np.matmul(P_hard, V_hard)\n",
        "print (V_easy)\n",
        "print (V_hard)"
      ]
    },
    {
      "cell_type": "markdown",
      "metadata": {
        "id": "o3VXyYZupdHD"
      },
      "source": [
        "## Optimal value function\n",
        "![image.png](attachment:939abbd2-ea46-476c-be4b-4f4e028cbe18.png)"
      ]
    },
    {
      "cell_type": "code",
      "execution_count": null,
      "metadata": {
        "colab": {
          "base_uri": "https://localhost:8080/"
        },
        "id": "ZDuK7Y3YpdHD",
        "outputId": "9700e8ed-7258-4885-83f2-e6001434f706"
      },
      "outputs": [
        {
          "output_type": "stream",
          "name": "stdout",
          "text": [
            "[121.01972202 121.32311218 121.45965076 119.59724691 104.67378402\n",
            "   0.        ]\n"
          ]
        }
      ],
      "source": [
        "V_opt = np.zeros(6)\n",
        "V = np.zeros((6,2))\n",
        "for i in range(1000):\n",
        "    V[:,0] = R_easy + gamma*np.matmul(P_easy, V_opt)\n",
        "    V[:,1] = R_hard + gamma*np.matmul(P_hard, V_opt)\n",
        "    V_opt = V.max(axis=1)\n",
        "print (V_opt)"
      ]
    },
    {
      "cell_type": "markdown",
      "metadata": {
        "id": "4Yvhu9AGpdHD"
      },
      "source": [
        "![image.png](attachment:8d5dd8f2-fb62-441a-b437-abd005718317.png)"
      ]
    },
    {
      "cell_type": "code",
      "execution_count": null,
      "metadata": {
        "colab": {
          "base_uri": "https://localhost:8080/"
        },
        "id": "EETZY5B0pdHD",
        "outputId": "d11b7b37-9a81-4079-9d11-69cb56e3c88b"
      },
      "outputs": [
        {
          "output_type": "stream",
          "name": "stdout",
          "text": [
            "[[120.89957951 121.01972202]\n",
            " [121.32311218 120.59724691]\n",
            " [121.45965076 121.45965076]\n",
            " [119.32311218 119.59724691]\n",
            " [ 93.26430132 104.67378402]\n",
            " [  0.           0.        ]]\n",
            "[121.01972202 121.32311218 121.45965076 119.59724691 104.67378402\n",
            "   0.        ]\n"
          ]
        }
      ],
      "source": [
        "Q_opt = np.zeros((6,2))\n",
        "V_opt = np.zeros(6)\n",
        "for i in range(1000):\n",
        "    Q_opt[:,0] = R_easy + gamma*np.matmul(P_easy, V_opt)\n",
        "    Q_opt[:,1] = R_hard + gamma*np.matmul(P_hard, V_opt)\n",
        "    V_opt = Q_opt.max(axis=1)\n",
        "print (Q_opt)\n",
        "print (V_opt)"
      ]
    },
    {
      "cell_type": "markdown",
      "metadata": {
        "id": "qWwdbSyqpdHD"
      },
      "source": [
        "![image.png](attachment:929773b3-689e-4c52-8ca3-e996c1611ffa.png)"
      ]
    },
    {
      "cell_type": "code",
      "execution_count": null,
      "metadata": {
        "id": "OoelQIH_pdHD"
      },
      "outputs": [],
      "source": [
        "def move(i,j,h,w,a):\n",
        "    ip, jp = i, j\n",
        "    if a == 0 :  # left\n",
        "        if j > 0: jp = j-1\n",
        "    elif a == 1: # right\n",
        "        if j < w-1: jp = j+1\n",
        "    elif a == 2: # up\n",
        "        if i > 0: ip = i-1\n",
        "    elif a == 3: # down\n",
        "        if i < h-1: ip = i+1\n",
        "    return ip, jp\n",
        "    \n",
        "def gridworldGetP(w,h,a,terminal=[]):\n",
        "    n = w*h\n",
        "    P = np.zeros((n,n))\n",
        "    for i in range(h):\n",
        "        for j in range(w):\n",
        "            k = i*w + j\n",
        "            if k in terminal: continue\n",
        "            ip,jp = move(i,j,h,w,a)\n",
        "            kp = ip*w + jp\n",
        "            P[k,kp] = 1\n",
        "    for k in terminal:\n",
        "        P[k,k] = 1\n",
        "    return P\n",
        "\n",
        "# P = gridworldGetP(4,4,0,[0,15])\n",
        "# print (P)\n",
        "# print (P.sum(axis=1))"
      ]
    },
    {
      "cell_type": "code",
      "execution_count": null,
      "metadata": {
        "id": "sjEHgEgUpdHD"
      },
      "outputs": [],
      "source": [
        "# make model for shortest path\n",
        "terminal = [0,15]\n",
        "P = []\n",
        "for a in range(4):\n",
        "    Pa = gridworldGetP(4,4,a,terminal)\n",
        "    P.append(Pa)\n",
        "    \n",
        "R = np.full((16,4),-1)\n",
        "for s in terminal: \n",
        "    R[s,:] = 0\n",
        "    \n",
        "gamma = 1\n",
        "\n",
        "# random policy\n",
        "pi = np.full((16,4),0.25)"
      ]
    },
    {
      "cell_type": "code",
      "execution_count": null,
      "metadata": {
        "colab": {
          "base_uri": "https://localhost:8080/"
        },
        "id": "2vUy8N8mpdHD",
        "outputId": "c1d83975-63e5-4d25-b40e-8ef8cf6defdc"
      },
      "outputs": [
        {
          "output_type": "stream",
          "name": "stdout",
          "text": [
            "[ 0. -1. -1. -1. -1. -1. -1. -1. -1. -1. -1. -1. -1. -1. -1.  0.]\n",
            "[[1.   0.   0.   0.   0.   0.   0.   0.   0.   0.   0.   0.   0.   0.\n",
            "  0.   0.  ]\n",
            " [0.25 0.25 0.25 0.   0.   0.25 0.   0.   0.   0.   0.   0.   0.   0.\n",
            "  0.   0.  ]\n",
            " [0.   0.25 0.25 0.25 0.   0.   0.25 0.   0.   0.   0.   0.   0.   0.\n",
            "  0.   0.  ]\n",
            " [0.   0.   0.25 0.5  0.   0.   0.   0.25 0.   0.   0.   0.   0.   0.\n",
            "  0.   0.  ]\n",
            " [0.25 0.   0.   0.   0.25 0.25 0.   0.   0.25 0.   0.   0.   0.   0.\n",
            "  0.   0.  ]\n",
            " [0.   0.25 0.   0.   0.25 0.   0.25 0.   0.   0.25 0.   0.   0.   0.\n",
            "  0.   0.  ]\n",
            " [0.   0.   0.25 0.   0.   0.25 0.   0.25 0.   0.   0.25 0.   0.   0.\n",
            "  0.   0.  ]\n",
            " [0.   0.   0.   0.25 0.   0.   0.25 0.25 0.   0.   0.   0.25 0.   0.\n",
            "  0.   0.  ]\n",
            " [0.   0.   0.   0.   0.25 0.   0.   0.   0.25 0.25 0.   0.   0.25 0.\n",
            "  0.   0.  ]\n",
            " [0.   0.   0.   0.   0.   0.25 0.   0.   0.25 0.   0.25 0.   0.   0.25\n",
            "  0.   0.  ]\n",
            " [0.   0.   0.   0.   0.   0.   0.25 0.   0.   0.25 0.   0.25 0.   0.\n",
            "  0.25 0.  ]\n",
            " [0.   0.   0.   0.   0.   0.   0.   0.25 0.   0.   0.25 0.25 0.   0.\n",
            "  0.   0.25]\n",
            " [0.   0.   0.   0.   0.   0.   0.   0.   0.25 0.   0.   0.   0.5  0.25\n",
            "  0.   0.  ]\n",
            " [0.   0.   0.   0.   0.   0.   0.   0.   0.   0.25 0.   0.   0.25 0.25\n",
            "  0.25 0.  ]\n",
            " [0.   0.   0.   0.   0.   0.   0.   0.   0.   0.   0.25 0.   0.   0.25\n",
            "  0.25 0.25]\n",
            " [0.   0.   0.   0.   0.   0.   0.   0.   0.   0.   0.   0.   0.   0.\n",
            "  0.   1.  ]]\n",
            "[1. 1. 1. 1. 1. 1. 1. 1. 1. 1. 1. 1. 1. 1. 1. 1.]\n",
            "[[ 0. -1. -1. -1.]\n",
            " [-1. -1. -1. -1.]\n",
            " [-1. -1. -1. -1.]\n",
            " [-1. -1. -1.  0.]]\n",
            "[[ 0.   -1.75 -2.   -2.  ]\n",
            " [-1.75 -2.   -2.   -2.  ]\n",
            " [-2.   -2.   -2.   -1.75]\n",
            " [-2.   -2.   -1.75  0.  ]]\n",
            "[[ 0.     -2.4375 -2.9375 -3.    ]\n",
            " [-2.4375 -2.875  -3.     -2.9375]\n",
            " [-2.9375 -3.     -2.875  -2.4375]\n",
            " [-3.     -2.9375 -2.4375  0.    ]]\n",
            "[[ 0.      -3.0625  -3.84375 -3.96875]\n",
            " [-3.0625  -3.71875 -3.90625 -3.84375]\n",
            " [-3.84375 -3.90625 -3.71875 -3.0625 ]\n",
            " [-3.96875 -3.84375 -3.0625   0.     ]]\n",
            "[[ 0.        -3.65625   -4.6953125 -4.90625  ]\n",
            " [-3.65625   -4.484375  -4.78125   -4.6953125]\n",
            " [-4.6953125 -4.78125   -4.484375  -3.65625  ]\n",
            " [-4.90625   -4.6953125 -3.65625    0.       ]]\n",
            "[[ 0.         -4.20898438 -5.50976562 -5.80078125]\n",
            " [-4.20898438 -5.21875    -5.58984375 -5.50976562]\n",
            " [-5.50976562 -5.58984375 -5.21875    -4.20898438]\n",
            " [-5.80078125 -5.50976562 -4.20898438  0.        ]]\n",
            "[[ 0.         -4.734375   -6.27734375 -6.65527344]\n",
            " [-4.734375   -5.89941406 -6.36425781 -6.27734375]\n",
            " [-6.27734375 -6.36425781 -5.89941406 -4.734375  ]\n",
            " [-6.65527344 -6.27734375 -4.734375    0.        ]]\n",
            "[[ 0.         -5.2277832  -7.0078125  -7.46630859]\n",
            " [-5.2277832  -6.54931641 -7.08837891 -7.0078125 ]\n",
            " [-7.0078125  -7.08837891 -6.54931641 -5.2277832 ]\n",
            " [-7.46630859 -7.0078125  -5.2277832   0.        ]]\n",
            "[[ 0.         -5.69622803 -7.6975708  -8.23706055]\n",
            " [-5.69622803 -7.15808105 -7.77856445 -7.6975708 ]\n",
            " [-7.6975708  -7.77856445 -7.15808105 -5.69622803]\n",
            " [-8.23706055 -7.6975708  -5.69622803  0.        ]]\n",
            "[[ 0.         -6.13796997 -8.35235596 -8.96731567]\n",
            " [-6.13796997 -7.73739624 -8.42782593 -8.35235596]\n",
            " [-8.35235596 -8.42782593 -7.73739624 -6.13796997]\n",
            " [-8.96731567 -8.35235596 -6.13796997  0.        ]]\n",
            "[[ 0.         -6.55693054 -8.97136688 -9.65983582]\n",
            " [-6.55693054 -8.28289795 -9.0448761  -8.97136688]\n",
            " [-8.97136688 -9.0448761  -8.28289795 -6.55693054]\n",
            " [-9.65983582 -8.97136688 -6.55693054  0.        ]]\n",
            "[[  0.          -6.95279884  -9.55825233 -10.31560135]\n",
            " [ -6.95279884  -8.80090332  -9.62713242  -9.55825233]\n",
            " [ -9.55825233  -9.62713242  -8.80090332  -6.95279884]\n",
            " [-10.31560135  -9.55825233  -6.95279884   0.        ]]\n",
            "[[  0.          -7.32798862 -10.11344624 -10.93692684]\n",
            " [ -7.32798862  -9.28996563 -10.17957783 -10.11344624]\n",
            " [-10.11344624 -10.17957783  -9.28996563  -7.32798862]\n",
            " [-10.93692684 -10.11344624  -7.32798862   0.        ]]\n",
            "[[  0.          -7.68285012 -10.63948488 -11.52518654]\n",
            " [ -7.68285012  -9.75378323 -10.70170593 -10.63948488]\n",
            " [-10.63948488 -10.70170593  -9.75378323  -7.68285012]\n",
            " [-11.52518654 -10.63948488  -7.68285012   0.        ]]\n",
            "[[  0.          -8.01902956 -11.13730687 -12.08233571]\n",
            " [ -8.01902956 -10.19227803 -11.19663405 -11.13730687]\n",
            " [-11.13730687 -11.19663405 -10.19227803  -8.01902956]\n",
            " [-12.08233571 -11.13730687  -8.01902956   0.        ]]\n",
            "[[  0.          -8.33715361 -11.60882655 -12.60982129]\n",
            " [ -8.33715361 -10.60783181 -11.66479245 -11.60882655]\n",
            " [-11.60882655 -11.66479245 -10.60783181  -8.33715361]\n",
            " [-12.60982129 -11.60882655  -8.33715361   0.        ]]\n",
            "[[  0.          -8.63845299 -12.05514847 -13.10932392]\n",
            " [ -8.63845299 -11.00097303 -12.10832918 -12.05514847]\n",
            " [-12.05514847 -12.10832918 -11.00097303  -8.63845299]\n",
            " [-13.10932392 -12.05514847  -8.63845299   0.        ]]\n",
            "[[  0.          -8.92364362 -12.47781364 -13.5822362 ]\n",
            " [ -8.92364362 -11.37339108 -12.52806075 -12.47781364]\n",
            " [-12.47781364 -12.52806075 -11.37339108  -8.92364362]\n",
            " [-13.5822362  -12.47781364  -8.92364362   0.        ]]\n",
            "[[  0.          -9.19371209 -12.87793855 -14.03002492]\n",
            " [ -9.19371209 -11.72585219 -12.92560236 -12.87793855]\n",
            " [-12.87793855 -12.92560236 -11.72585219  -9.19371209]\n",
            " [-14.03002492 -12.87793855  -9.19371209   0.        ]]\n",
            "[[  0.          -9.44937571 -13.25681948 -14.45398174]\n",
            " [ -9.44937571 -12.05965722 -13.30189537 -13.25681948]\n",
            " [-13.25681948 -13.30189537 -12.05965722  -9.44937571]\n",
            " [-14.45398174 -13.25681948  -9.44937571   0.        ]]\n"
          ]
        }
      ],
      "source": [
        "R_rand = (pi * R).sum(axis=1)\n",
        "print (R_rand)\n",
        "\n",
        "P_rand = np.zeros((16,16))\n",
        "for s in range(16):\n",
        "    for a in range(4):\n",
        "        P_rand[s,:] += pi[s,a] * P[a][s,:]\n",
        "print (P_rand)\n",
        "print (P_rand.sum(axis=1))\n",
        "\n",
        "# iterative evaluation of random policy (synch. backup, matrix version)\n",
        "V_rand = np.zeros(16)\n",
        "for i in range(20):\n",
        "    V_rand = R_rand + gamma*np.matmul(P_rand, V_rand)\n",
        "    print (V_rand.reshape(4,4))"
      ]
    },
    {
      "cell_type": "code",
      "execution_count": null,
      "metadata": {
        "colab": {
          "base_uri": "https://localhost:8080/"
        },
        "id": "Mz4B4D_OpdHD",
        "outputId": "0d5352fa-8084-45ab-df14-8302c8157c57"
      },
      "outputs": [
        {
          "output_type": "stream",
          "name": "stdout",
          "text": [
            "[[  0.         -11.42591538 -16.29940807 -17.92681232]\n",
            " [-11.42591538 -14.84125831 -16.57033147 -16.60954761]\n",
            " [-16.29940807 -16.57033147 -15.10598674 -11.83929409]\n",
            " [-17.92681232 -16.60954761 -11.83929409   0.        ]]\n"
          ]
        }
      ],
      "source": [
        "# iterative policy evaluation (asynch. backup)\n",
        "def policyEvaluation(P, R, gamma, pi, V, k):\n",
        "    for i in range(k):\n",
        "        for s in range(16):\n",
        "            sum = 0.0\n",
        "            for a in range(4):\n",
        "                sum += pi[s,a]*(R[s,a]+gamma*np.dot(P[a][s,:],V))\n",
        "            V[s] = sum\n",
        "    return V\n",
        "\n",
        "V = policyEvaluation(P, R, gamma, pi, np.zeros(16), 20)\n",
        "print (V.reshape(4,4))"
      ]
    },
    {
      "cell_type": "code",
      "execution_count": null,
      "metadata": {
        "id": "Ep04GY6JpdHD"
      },
      "outputs": [],
      "source": [
        "# greedy policy improvement\n",
        "def getQ(V, P, R, gamma):\n",
        "    Q = np.zeros((16,4))\n",
        "    for s in range(16):\n",
        "        for a in range(4):\n",
        "            Q[s,a] = R[s,a] + gamma*np.dot(P[a][s,:],V)\n",
        "    return Q\n",
        "\n",
        "def greedy(Q):\n",
        "    pi = np.zeros((16,4))\n",
        "    for s in range(16):\n",
        "        a = np.argmax(Q[s,:])\n",
        "        pi[s,a] = 1\n",
        "    return pi\n",
        "\n",
        "def greedyPolicy(V, P, R, gamma):\n",
        "    Q = getQ(V, P, R, gamma)\n",
        "    # print(Q)\n",
        "    pi = greedy(Q)\n",
        "    # print (pi)\n",
        "    return pi"
      ]
    },
    {
      "cell_type": "code",
      "execution_count": null,
      "metadata": {
        "colab": {
          "base_uri": "https://localhost:8080/"
        },
        "id": "uJ1rhc3ZpdHD",
        "outputId": "852475bb-e077-4fbb-cd39-e8a5907b9979"
      },
      "outputs": [
        {
          "output_type": "stream",
          "name": "stdout",
          "text": [
            "[[ 0.        -1.        -1.25      -1.3125   ]\n",
            " [-1.        -1.5       -1.6875    -1.75     ]\n",
            " [-1.25      -1.6875    -1.84375   -1.8984375]\n",
            " [-1.3125    -1.75      -1.8984375  0.       ]]\n",
            "[[ 0. -1. -2. -3.]\n",
            " [-1. -2. -3. -4.]\n",
            " [-2. -3. -4. -1.]\n",
            " [-3. -4. -1.  0.]]\n",
            "[[ 0. -1. -2. -3.]\n",
            " [-1. -2. -3. -2.]\n",
            " [-2. -3. -2. -1.]\n",
            " [-3. -2. -1.  0.]]\n",
            "[[ 0. -1. -2. -3.]\n",
            " [-1. -2. -3. -2.]\n",
            " [-2. -3. -2. -1.]\n",
            " [-3. -2. -1.  0.]]\n",
            "[[0 0 0 0]\n",
            " [2 0 0 3]\n",
            " [2 0 1 3]\n",
            " [1 1 1 0]]\n"
          ]
        }
      ],
      "source": [
        "# Policy iteration\n",
        "k = 1\n",
        "V = np.zeros(16)\n",
        "for i in range(100):\n",
        "    V = policyEvaluation(P, R, gamma, pi, V, k)\n",
        "    print (V.reshape(4,4))\n",
        "    pi_old = pi\n",
        "    pi = greedyPolicy(V, P, R, gamma)\n",
        "    if np.equal(pi, pi_old).all():\n",
        "        break\n",
        "dpi = np.argmax(pi,axis=1)\n",
        "print (dpi.reshape(4,4))\n"
      ]
    },
    {
      "cell_type": "code",
      "execution_count": null,
      "metadata": {
        "colab": {
          "base_uri": "https://localhost:8080/"
        },
        "id": "iOYq42cSpdHD",
        "outputId": "8d56affc-7cbf-4f2b-a5ff-35120e5d2894"
      },
      "outputs": [
        {
          "output_type": "stream",
          "name": "stdout",
          "text": [
            "[[ 0. -1. -1. -1.]\n",
            " [-1. -1. -1. -1.]\n",
            " [-1. -1. -1. -1.]\n",
            " [-1. -1. -1.  0.]]\n",
            "[[ 0. -1. -2. -2.]\n",
            " [-1. -2. -2. -2.]\n",
            " [-2. -2. -2. -1.]\n",
            " [-2. -2. -1.  0.]]\n",
            "[[ 0. -1. -2. -3.]\n",
            " [-1. -2. -3. -2.]\n",
            " [-2. -3. -2. -1.]\n",
            " [-3. -2. -1.  0.]]\n",
            "[[ 0. -1. -2. -3.]\n",
            " [-1. -2. -3. -2.]\n",
            " [-2. -3. -2. -1.]\n",
            " [-3. -2. -1.  0.]]\n",
            "[[ 0. -1. -2. -3.]\n",
            " [-1. -2. -3. -2.]\n",
            " [-2. -3. -2. -1.]\n",
            " [-3. -2. -1.  0.]]\n"
          ]
        }
      ],
      "source": [
        "# value iteration (synchronous backup)\n",
        "V = np.zeros(16)\n",
        "Va = np.zeros(4)\n",
        "for k in range(5):\n",
        "    Vnew = np.zeros(16)\n",
        "    for s in range(16):\n",
        "        for a in range(4):\n",
        "            Va[a] = R[s,a] + gamma*np.dot(P[a][s,:], V)\n",
        "        Vnew[s] = np.max(Va)\n",
        "    V = Vnew\n",
        "    print (V.reshape(4,4))"
      ]
    },
    {
      "cell_type": "code",
      "execution_count": null,
      "metadata": {
        "colab": {
          "base_uri": "https://localhost:8080/"
        },
        "id": "ZEOqmKUfpdHD",
        "outputId": "2ef65745-a36c-4a46-c68a-0741fff93445"
      },
      "outputs": [
        {
          "output_type": "stream",
          "name": "stdout",
          "text": [
            "[[0. 0. 0. 0.]\n",
            " [0. 0. 0. 0.]\n",
            " [0. 0. 0. 0.]\n",
            " [0. 0. 0. 0.]]\n",
            "[[ 0. -1. -1. -1.]\n",
            " [-1. -1. -1. -1.]\n",
            " [-1. -1. -1. -1.]\n",
            " [-1. -1. -1.  0.]]\n",
            "[[ 0. -1. -2. -2.]\n",
            " [-1. -2. -2. -2.]\n",
            " [-2. -2. -2. -1.]\n",
            " [-2. -2. -1.  0.]]\n",
            "[[ 0. -1. -2. -3.]\n",
            " [-1. -2. -3. -2.]\n",
            " [-2. -3. -2. -1.]\n",
            " [-3. -2. -1.  0.]]\n"
          ]
        }
      ],
      "source": [
        "# Asynchronous VI : In-place VI\n",
        "V = np.zeros(16)\n",
        "Va = np.zeros(4)\n",
        "for k in range(100):\n",
        "    print (V.reshape(4,4))\n",
        "    changed = False\n",
        "    for s in range(16):\n",
        "        for a in range(4):\n",
        "            Va[a] = R[s,a] + gamma*np.dot(P[a][s,:], V)\n",
        "        old = V[s]\n",
        "        V[s] = np.max(Va)\n",
        "        if abs(V[s]-old) > 0.0001:\n",
        "            changed = True\n",
        "    if not changed:\n",
        "        break"
      ]
    },
    {
      "cell_type": "markdown",
      "metadata": {
        "id": "remTb3-KpdHE"
      },
      "source": [
        "### Shortest path\n",
        "![image.png](attachment:fcb79fb5-4deb-4538-99e8-46cd5e97ef6a.png)"
      ]
    },
    {
      "cell_type": "code",
      "execution_count": null,
      "metadata": {
        "id": "-jqbZZd2pdHE"
      },
      "outputs": [],
      "source": [
        "# make model for shortest path\n",
        "terminal = [0]\n",
        "P = []\n",
        "for a in range(4):\n",
        "    Pa = gridworldGetP(4,4,a,terminal)\n",
        "    P.append(Pa)\n",
        "    \n",
        "R = np.full((16,4),-1)\n",
        "for s in terminal: \n",
        "    R[s,:] = 0\n",
        "    \n",
        "gamma = 1"
      ]
    },
    {
      "cell_type": "code",
      "execution_count": null,
      "metadata": {
        "colab": {
          "base_uri": "https://localhost:8080/"
        },
        "id": "qDOx-PF4pdHE",
        "outputId": "cf968af7-0d02-4809-8a04-08c2c6852760"
      },
      "outputs": [
        {
          "output_type": "stream",
          "name": "stdout",
          "text": [
            "[[ 0. -1. -1. -1.]\n",
            " [-1. -1. -1. -1.]\n",
            " [-1. -1. -1. -1.]\n",
            " [-1. -1. -1. -1.]]\n",
            "[[ 0. -1. -2. -2.]\n",
            " [-1. -2. -2. -2.]\n",
            " [-2. -2. -2. -2.]\n",
            " [-2. -2. -2. -2.]]\n",
            "[[ 0. -1. -2. -3.]\n",
            " [-1. -2. -3. -3.]\n",
            " [-2. -3. -3. -3.]\n",
            " [-3. -3. -3. -3.]]\n",
            "[[ 0. -1. -2. -3.]\n",
            " [-1. -2. -3. -4.]\n",
            " [-2. -3. -4. -4.]\n",
            " [-3. -4. -4. -4.]]\n",
            "[[ 0. -1. -2. -3.]\n",
            " [-1. -2. -3. -4.]\n",
            " [-2. -3. -4. -5.]\n",
            " [-3. -4. -5. -5.]]\n",
            "[[ 0. -1. -2. -3.]\n",
            " [-1. -2. -3. -4.]\n",
            " [-2. -3. -4. -5.]\n",
            " [-3. -4. -5. -6.]]\n"
          ]
        }
      ],
      "source": [
        "# Synchronous VI\n",
        "V = np.zeros(16)\n",
        "Va = np.zeros(4)\n",
        "for k in range(6):\n",
        "    Vnew = np.zeros(16)\n",
        "    for s in range(16):\n",
        "        for a in range(4):\n",
        "            Va[a] = R[s,a] + gamma*np.dot(P[a][s,:], V)\n",
        "        Vnew[s] = np.max(Va)\n",
        "    V = Vnew\n",
        "    print (V.reshape(4,4))"
      ]
    },
    {
      "cell_type": "code",
      "execution_count": null,
      "metadata": {
        "colab": {
          "base_uri": "https://localhost:8080/",
          "height": 329
        },
        "id": "zx02H1J8pdHE",
        "outputId": "7d81b322-84f2-40f0-d71d-667cc27646f8"
      },
      "outputs": [
        {
          "output_type": "error",
          "ename": "ValueError",
          "evalue": "ignored",
          "traceback": [
            "\u001b[0;31m---------------------------------------------------------------------------\u001b[0m",
            "\u001b[0;31mTypeError\u001b[0m                                 Traceback (most recent call last)",
            "\u001b[0;31mTypeError\u001b[0m: only size-1 arrays can be converted to Python scalars",
            "\nThe above exception was the direct cause of the following exception:\n",
            "\u001b[0;31mValueError\u001b[0m                                Traceback (most recent call last)",
            "\u001b[0;32m<ipython-input-27-f5a35f15e16c>\u001b[0m in \u001b[0;36m<module>\u001b[0;34m\u001b[0m\n\u001b[1;32m      4\u001b[0m     \u001b[0;32mfor\u001b[0m \u001b[0ms\u001b[0m \u001b[0;32min\u001b[0m \u001b[0mrange\u001b[0m\u001b[0;34m(\u001b[0m\u001b[0;36m16\u001b[0m\u001b[0;34m)\u001b[0m\u001b[0;34m:\u001b[0m\u001b[0;34m\u001b[0m\u001b[0;34m\u001b[0m\u001b[0m\n\u001b[1;32m      5\u001b[0m         \u001b[0;32mfor\u001b[0m \u001b[0ma\u001b[0m \u001b[0;32min\u001b[0m \u001b[0mrange\u001b[0m\u001b[0;34m(\u001b[0m\u001b[0;36m4\u001b[0m\u001b[0;34m)\u001b[0m\u001b[0;34m:\u001b[0m\u001b[0;34m\u001b[0m\u001b[0;34m\u001b[0m\u001b[0m\n\u001b[0;32m----> 6\u001b[0;31m             \u001b[0mVa\u001b[0m\u001b[0;34m[\u001b[0m\u001b[0ma\u001b[0m\u001b[0;34m]\u001b[0m \u001b[0;34m=\u001b[0m \u001b[0mR\u001b[0m\u001b[0;34m[\u001b[0m\u001b[0ms\u001b[0m\u001b[0;34m]\u001b[0m \u001b[0;34m+\u001b[0m \u001b[0mgamma\u001b[0m\u001b[0;34m*\u001b[0m\u001b[0mnp\u001b[0m\u001b[0;34m.\u001b[0m\u001b[0mdot\u001b[0m\u001b[0;34m(\u001b[0m\u001b[0mP\u001b[0m\u001b[0;34m[\u001b[0m\u001b[0ma\u001b[0m\u001b[0;34m]\u001b[0m\u001b[0;34m[\u001b[0m\u001b[0ms\u001b[0m\u001b[0;34m,\u001b[0m\u001b[0;34m:\u001b[0m\u001b[0;34m]\u001b[0m\u001b[0;34m,\u001b[0m \u001b[0mV\u001b[0m\u001b[0;34m)\u001b[0m\u001b[0;34m\u001b[0m\u001b[0;34m\u001b[0m\u001b[0m\n\u001b[0m\u001b[1;32m      7\u001b[0m         \u001b[0mV\u001b[0m\u001b[0;34m[\u001b[0m\u001b[0ms\u001b[0m\u001b[0;34m]\u001b[0m \u001b[0;34m=\u001b[0m \u001b[0mnp\u001b[0m\u001b[0;34m.\u001b[0m\u001b[0mmax\u001b[0m\u001b[0;34m(\u001b[0m\u001b[0mVa\u001b[0m\u001b[0;34m)\u001b[0m\u001b[0;34m\u001b[0m\u001b[0;34m\u001b[0m\u001b[0m\n\u001b[1;32m      8\u001b[0m     \u001b[0mprint\u001b[0m \u001b[0;34m(\u001b[0m\u001b[0mV\u001b[0m\u001b[0;34m.\u001b[0m\u001b[0mreshape\u001b[0m\u001b[0;34m(\u001b[0m\u001b[0;36m4\u001b[0m\u001b[0;34m,\u001b[0m\u001b[0;36m4\u001b[0m\u001b[0;34m)\u001b[0m\u001b[0;34m)\u001b[0m\u001b[0;34m\u001b[0m\u001b[0;34m\u001b[0m\u001b[0m\n",
            "\u001b[0;31mValueError\u001b[0m: setting an array element with a sequence."
          ]
        }
      ],
      "source": [
        "# Asynchronous VI : In-place VI\n",
        "V = np.zeros(16)\n",
        "for k in range(6):\n",
        "    for s in range(16):\n",
        "        for a in range(4):\n",
        "            Va[a] = R[s] + gamma*np.dot(P[a][s,:], V)\n",
        "        V[s] = np.max(Va)\n",
        "    print (V.reshape(4,4))"
      ]
    },
    {
      "cell_type": "code",
      "execution_count": null,
      "metadata": {
        "id": "yEAtI6ydpdHE"
      },
      "outputs": [],
      "source": []
    }
  ],
  "metadata": {
    "kernelspec": {
      "display_name": "Python 3",
      "language": "python",
      "name": "python3"
    },
    "language_info": {
      "codemirror_mode": {
        "name": "ipython",
        "version": 3
      },
      "file_extension": ".py",
      "mimetype": "text/x-python",
      "name": "python",
      "nbconvert_exporter": "python",
      "pygments_lexer": "ipython3",
      "version": "3.8.5"
    },
    "colab": {
      "provenance": [],
      "include_colab_link": true
    }
  },
  "nbformat": 4,
  "nbformat_minor": 0
}